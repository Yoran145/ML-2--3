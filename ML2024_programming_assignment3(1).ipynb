{
 "cells": [
  {
   "cell_type": "markdown",
   "id": "333fb0a5-1e6b-4211-8a64-2de9260378ef",
   "metadata": {
    "id": "333fb0a5-1e6b-4211-8a64-2de9260378ef",
    "tags": []
   },
   "source": [
    "# Assignment 3\n",
    "\n",
    "*Part of the course:\n",
    "Machine Learning (code: INFOB3ML), Fall 2024, Utrecht University*\n",
    "\n",
    "Total points: 10 (100%)\n",
    "\n",
    "Deadline: Friday 18 October, 23:59\n",
    "\n",
    "**Write your names and student numbers here: Yoran de Jongh 5124476___**\n",
    "\n",
    "Submit one ipynb file per pair.\n",
    "\n",
    "**Before you submit, click Kernel > Restart & Run All to make sure you submit a working version of your code!**\n"
   ]
  },
  {
   "cell_type": "markdown",
   "id": "7d823b0f",
   "metadata": {
    "id": "7d823b0f"
   },
   "source": [
    "\n",
    "## The BoAW Approach for emotion classification of utterances\n",
    "In this programming assignment, you will be implementing Bag-of-Audio-Words (BoAW) method for acoustic low level descriptor (LLD) representation over utterances.\n",
    "The acoustic LLDs per utterance are extracted and provided to you in separate files.\n",
    "Your task is to implement the BoAW approach and the component methods, followed by classification using existing python libraries.\n",
    "\n",
    "In a nutshell, you will be implementing the following functions (use of an existing library/package like `sklearn` is not allowed for this part):\n",
    "1. Principal Component Analysis (PCA)\n",
    "2. K-Means algorithm\n",
    "3. BoAW representation function\n",
    "\n",
    "You will then experiment with different combinations of PCA dimensions (`p_pca`) and K-Means components (`K`), and optimize said combinations using a Support Vector Machine (SVM) classifier.\n",
    "You are given data of 16 speakers, where:\n",
    "- The data of the first 8 speakers will be used as training set\n",
    "- The data of speakers 9-12 will be used as validation set and\n",
    "- The data of speakers 13-16 will be used as the test set.\n",
    "\n",
    "The training set will be used to learn PCA and K-Means model, as well as to train the SVM classifiers using the BoAW representations as features and the emotions of the speakers as responses.\n",
    "The hyper-parameter `C` of the classifiers as well as the number of principal components (`p_pca`) and cluster components (`K`) will be optimized on the validation set.\n",
    "The top model (resulting from the best combination of `p_pca`, `K` and `C` hyper-parameters) will be applied to the test set."
   ]
  },
  {
   "cell_type": "markdown",
   "id": "1b971fcf-1488-4ef7-8495-a5202ccd024e",
   "metadata": {
    "id": "1b971fcf-1488-4ef7-8495-a5202ccd024e",
    "tags": []
   },
   "source": [
    "### The BoAW approach\n",
    "In the BoAW approach (see Figure 1 for an overview), we train a K-Means model using the combined LLDs from all trained set utterances.\n",
    "Mainly because K-Means assumes no correlations in the data, and partly for reducing dimensionality, we first apply PCA to LLDs.\n",
    "The BoAW representation amounts to assigning each LLD to the nearest K-Means cluster and computing a K-dimensional histogram of the accumulated instances around each mean.\n",
    "This means that each utterance will be \"represented\" by a histogram, where each entry is the number of LLD sequences in the utterance that are assigned to a certain cluster.\n",
    "Normalization of the histogram (so that each entry is a frequency as opposed to an absolute number) is possible.\n",
    "\n",
    "![boaw_rep.png](data:image/png;base64,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)\n",
    "\n",
    "Figure 1: Bag-of-Audio-Words representation generation pipeline."
   ]
  },
  {
   "cell_type": "markdown",
   "id": "04b3eb90-b7c0-472d-a700-bf1e0118e06e",
   "metadata": {
    "id": "04b3eb90-b7c0-472d-a700-bf1e0118e06e"
   },
   "source": [
    "### Note\n",
    "The last part of this assignment contains a lot of code that you do not need to (and should not) modify. However, it is important that you understand what is going on there, otherwise it will be difficult to fill-in the blanks when we ask you to.\n",
    "\n",
    "The only places where you need to write code say \"YOUR CODE HERE\" explicitly."
   ]
  },
  {
   "cell_type": "markdown",
   "id": "fa876d63-0a6a-4565-a6a7-98b0765aaed9",
   "metadata": {
    "id": "fa876d63-0a6a-4565-a6a7-98b0765aaed9"
   },
   "source": [
    "### Required packages:\n",
    "- numpy\n",
    "- pandas\n",
    "- scipy\n",
    "- sklearn\n",
    "\n",
    "\n",
    "### Required Dataset\n",
    "You can download the zipped folder containing the extracted acoustic LLDs from subset of RAVDESS dataset from:\n",
    "\n",
    "https://surfdrive.surf.nl/files/index.php/s/EeJxsea0CfCn17S\n",
    "\n",
    "Unzip it in the same folder as this python notebook to ensure smooth working of the scripts we have prepared."
   ]
  },
  {
   "cell_type": "code",
   "execution_count": 1,
   "id": "dsi20mmc9bQS",
   "metadata": {
    "id": "dsi20mmc9bQS"
   },
   "outputs": [
    {
     "name": "stderr",
     "output_type": "stream",
     "text": [
      "'wget' is not recognized as an internal or external command,\n",
      "operable program or batch file.\n",
      "'unzip' is not recognized as an internal or external command,\n",
      "operable program or batch file.\n"
     ]
    }
   ],
   "source": [
    "# If you work on Google Colab, uncomment following scripts to download and unzip the data file\n",
    "!wget -c https://surfdrive.surf.nl/files/index.php/s/EeJxsea0CfCn17S/download\n",
    "!unzip download"
   ]
  },
  {
   "cell_type": "markdown",
   "id": "684adf47-70db-439f-a337-492e4e60721d",
   "metadata": {
    "id": "684adf47-70db-439f-a337-492e4e60721d",
    "tags": []
   },
   "source": [
    "### Step 1: Implementing PCA (Graded 20%)\n",
    "Define a function `mypca(X)` with the following signature:\n",
    " - Input  `X`: N x D dimensional dataset\n",
    " - Output: `(W, lambda, mu)`\n",
    "     + `W`: D x D eigenvalue sorted PCA projection matrix (i.e. first column is the first principal component)\n",
    "     + `lambdas`: Dx1 vector of sorted eigenvalues (sorted in _descending_ order)\n",
    "     + `mu`: Dx1 the mean of X (should be calculated and removed from the data before subsequent projection using W)\n",
    "     \n",
    "Hints:\n",
    " 1. Recall that you should start by ensuring that the data has zero mean.\n",
    " 2. You may want to make use of the numpy function `np.cov`. Be careful with what matrix you feed into this function. (Extra hint: look at the description `rowvar` argument of this function in the documentation).\n",
    " 3. You will want to sort the eigenvalues in descending order, but numpy's sort method can only sort in ascending order. You may want to consider using `np.argsort` and using the fact that the ascending sorting indices for `-v` and the descending sorting indices for `v` are the same.\n",
    " 4. Other numpy functions you may want to use: `np.mean`, `np.linalg.eig`."
   ]
  },
  {
   "cell_type": "code",
   "execution_count": 2,
   "id": "69095bc0-d3d2-48d0-8c94-8933ba894d12",
   "metadata": {
    "id": "69095bc0-d3d2-48d0-8c94-8933ba894d12"
   },
   "outputs": [],
   "source": [
    "import numpy as np\n",
    "import scipy as sc\n",
    "\n",
    "\n",
    "\n",
    "def mypca(X):\n",
    "    mu = np.mean(X, axis = 0)\n",
    "    X_zero_mean = X - mu\n",
    "    \n",
    "    sigma = np.cov(X_zero_mean, rowvar = False)\n",
    "    eigenvals, eigenvecs = np.linalg.eig(sigma)\n",
    "    \n",
    "    lambdas = np.argsort(eigenvals)[::-1]\n",
    "    \n",
    "    W = eigenvecs[:, lambdas]\n",
    "    return W, lambdas, mu"
   ]
  },
  {
   "cell_type": "code",
   "execution_count": 3,
   "id": "4c8cf8fe-7274-4d1e-8260-050ed4589ddf",
   "metadata": {
    "id": "4c8cf8fe-7274-4d1e-8260-050ed4589ddf"
   },
   "outputs": [
    {
     "name": "stdout",
     "output_type": "stream",
     "text": [
      "W = [[-0.19056484  0.29124074  0.9374774 ]\n",
      " [ 0.75580654 -0.56588686  0.32943669]\n",
      " [ 0.62645153  0.7713306  -0.11228352]]\n",
      "\n",
      "lambdas = [0 2 1]\n",
      "\n",
      "mu = [0.47868135 0.70558555 0.68530379]\n"
     ]
    }
   ],
   "source": [
    "# TEST\n",
    "np.random.seed(0)\n",
    "X = np.random.rand(4, 3) # Three features; four samples.\n",
    "W, lambdas, mu = mypca(X)\n",
    "print(f\"W = {W}\")\n",
    "print(f\"\\nlambdas = {lambdas}\")\n",
    "print(f\"\\nmu = {mu}\")\n",
    "\n",
    "assert W.shape == (3, 3), \"Wrong shape of array W!\"\n",
    "assert len(lambdas) == 3, \"Wrong length of vector lambdas!\"\n",
    "assert len(mu) == 3, \"Wrong length of vector mu!\""
   ]
  },
  {
   "cell_type": "markdown",
   "id": "34f454a5-2106-4e35-82c0-3e8778992b5d",
   "metadata": {
    "id": "34f454a5-2106-4e35-82c0-3e8778992b5d",
    "tags": []
   },
   "source": [
    "### Step 2: Implementing K-Means (Graded 40%)\n",
    "Define a function `mykmeans(X, K, maxiter=200, epsilon=0.0001)` with the following signature:\n",
    " - Input\n",
    "     + `X`: N x D dimensional dataset\n",
    "     + `K`: Hyper-parameter (number of clusters) of K-Means\n",
    "     + `maxiter`: maximum number of iterations (default 200)\n",
    "     + `epsilon`: algorithm will stop when error improvement < epsilon (or number of iterations surpasses `maxiter`) (default 200)\n",
    " - Output: `(M, A)`\n",
    "     + `M`: K x D dimensional matrix of means\n",
    "     + `A`: N x 1 dimensional cluster assignments\n",
    "     \n",
    "Notes:\n",
    " 1. It is not necessary but you may want to test your function in a simple example that is easy to visualize, like the ones in the book. In that case, you'll need to come up with it yourself. If you do so, I would advise doing so in a separate Python file and if you do it in this notebook _do not leave that extra code in, or you'll be penalized_.\n",
    " 2. You will need to compute distances between samples `X[n]` and mean vectors `M[k]`. You can use the function `dist` given below for that. Do not modify it."
   ]
  },
  {
   "cell_type": "code",
   "execution_count": 4,
   "id": "11d3c25f-9380-4283-b066-9bfdc405d1c7",
   "metadata": {
    "id": "11d3c25f-9380-4283-b066-9bfdc405d1c7"
   },
   "outputs": [],
   "source": [
    "# DO NOT MODIFY\n",
    "from scipy.spatial.distance import cdist\n",
    "# Hint: you will need this function in your K-Means (mykmeans) and BoAW (myboaw) function implementations\n",
    "def dist(X, M):\n",
    "    \"\"\"Computes the matrix with entries dist_matrix_nk = euclidean distance between X[n] and M[k] efficiently.\"\"\"\n",
    "    return cdist(X,M,metric='euclidean')"
   ]
  },
  {
   "cell_type": "code",
   "execution_count": 5,
   "id": "41963bd4-ec5f-4bed-9d54-5c4d674b36b6",
   "metadata": {
    "id": "41963bd4-ec5f-4bed-9d54-5c4d674b36b6"
   },
   "outputs": [],
   "source": [
    "def mykmeans(X, K, maxiter=200, epsilon=0.0001):\n",
    "    np.random.seed(1)\n",
    "    N, D = X.shape\n",
    "    # initialize model/output variables\n",
    "    initial_indices = np.random.choice(N, K) # sample random K out of N instances to use as initial means\n",
    "    M = X[initial_indices, :] # (K, D) matrix\n",
    "    min_indices = np.zeros((N, 1))\n",
    "    error_log = np.zeros((maxiter,1)) # You can save the errors here, to then use for computing delta\n",
    "    iteration = 0\n",
    "    cont = 1 # set to 0 when convergence criteria is met\n",
    "\n",
    "    print(\"Running k-means...\")\n",
    "    while cont:\n",
    "        dist_matrix = np.linalg.norm(X[:, np.newaxis] - M, axis = 2)  # maak de distant matrix, np.newaxis rechts voor column, axis = 2 voor collapsing naar N, K matrix\n",
    "        min_indices = np.argmin(dist_matrix, axis = 1)  # index voor min afstand van elk punt\n",
    "        M_old = M.copy()\n",
    "        \n",
    "        for k in range(K):# update the means\n",
    "            if np.any(min_indices == k):\n",
    "                M[k, :] = np.mean(X[min_indices == k], axis = 0)\n",
    "                \n",
    "        if iteration == 0:\n",
    "            delta = 100000 # Something very high\n",
    "        else:\n",
    "            # Lets calculate the mean relative difference as delta\n",
    "            delta = np.linalg.norm(M - M_old) / np.linalg.norm(M)   \n",
    "\n",
    "        if (delta <= epsilon or iteration == maxiter):\n",
    "            cont=0\n",
    "\n",
    "        assert not np.isnan(delta), \"delta is nan!\"\n",
    "\n",
    "        print(f\"iteration: {iteration}, delta: {delta}\")\n",
    "        iteration = iteration + 1;\n",
    "\n",
    "    # Final update of the indices specifying the clusters for each sample\n",
    "    dist_matrix =  np.linalg.norm(X[:, np.newaxis] - M, axis = 2) #- -> recalculate the distance matrix with the updated means\n",
    "    min_indices =  np.argmin(dist_matrix, axis = 1) # -> recalculate the cluster assignments using the up-to-date distance matrix\n",
    "    A = min_indices # Just renaming\n",
    "\n",
    "    return M, A"
   ]
  },
  {
   "cell_type": "code",
   "execution_count": 6,
   "id": "85b4aabd-172c-400d-84aa-ef21e2c87c4b",
   "metadata": {
    "id": "85b4aabd-172c-400d-84aa-ef21e2c87c4b"
   },
   "outputs": [
    {
     "name": "stdout",
     "output_type": "stream",
     "text": [
      "Running k-means...\n",
      "iteration: 0, delta: 100000\n",
      "iteration: 1, delta: 0.09345386270319955\n",
      "iteration: 2, delta: 0.15891043154093207\n",
      "iteration: 3, delta: 0.07235746052924216\n",
      "iteration: 4, delta: 0.0\n"
     ]
    },
    {
     "data": {
      "text/plain": [
       "(array([[5, 8],\n",
       "        [5, 2],\n",
       "        [8, 3]]),\n",
       " array([1, 1, 2, 1, 0, 0, 2, 0, 0, 0, 2, 1], dtype=int64))"
      ]
     },
     "execution_count": 6,
     "metadata": {},
     "output_type": "execute_result"
    }
   ],
   "source": [
    "# TEST\n",
    "np.random.seed(0)\n",
    "X = np.random.randint(1, 10, (12, 2)) #  two features; 12 samples.\n",
    "K = 3\n",
    "mykmeans(X, K)"
   ]
  },
  {
   "cell_type": "markdown",
   "id": "46551e5b-d763-4cfe-afcb-b4adda405bb9",
   "metadata": {
    "id": "46551e5b-d763-4cfe-afcb-b4adda405bb9",
    "tags": []
   },
   "source": [
    "### Step 3: Implementing Bag of Audio Words (BoAW) representation (Graded 20%)\n",
    "Define a function `myboaw(X_LLD, M)` which assigns the set of LLDs in the first argument to the nearest mean using the matrix of means given in the second argument.\n",
    "The function should have the following signature:\n",
    " - Input:\n",
    "     + `X_LLD`: N x D matrix of LLDs from each utterance, where N is the number of frames / instances and D is the (reduced) LLD dimensionality\n",
    "     + `M`: K x D matrix of means (code vectors) outputed from K-Means\n",
    " - Output:\n",
    "     + `boaw_rep`: K x 1 matrix with the _normalized_ boaw representation for each cluster k in each entry.\n",
    "     \n",
    "Hint:\n",
    " - After obtaining the K x 1 vector of unnormalized boaw representations (whose entries are integers), you can get the normalized version by simple dividing the unnormalized vector by the sum over all the entries of the unnormalized boaw vector."
   ]
  },
  {
   "cell_type": "code",
   "execution_count": null,
   "id": "dea4fe2e-c84d-4567-b115-be673d2429c4",
   "metadata": {
    "id": "dea4fe2e-c84d-4567-b115-be673d2429c4"
   },
   "outputs": [],
   "source": [
    "def myboaw(X_LLD, M):\n",
    "    #--- YOUR CODE HERE ---#\n",
    "    return boaw_rep"
   ]
  },
  {
   "cell_type": "code",
   "execution_count": null,
   "id": "02a255b6-d146-40ee-a60d-1d10d0ee8fcc",
   "metadata": {
    "id": "02a255b6-d146-40ee-a60d-1d10d0ee8fcc"
   },
   "outputs": [],
   "source": [
    "# TEST\n",
    "np.random.seed(0)\n",
    "X = np.random.randint(1, 10, (12, 2)) #  two features; 12 samples.\n",
    "K = 3\n",
    "M, _ = mykmeans(X, K)\n",
    "myboaw(X, M)"
   ]
  },
  {
   "cell_type": "markdown",
   "id": "f10e1941-d5ce-476d-b405-8eb10120c942",
   "metadata": {
    "id": "f10e1941-d5ce-476d-b405-8eb10120c942",
    "tags": []
   },
   "source": [
    "## Step 4: BoAW representation in action (graded 20%)"
   ]
  },
  {
   "cell_type": "markdown",
   "id": "265b6340-cee4-4fdd-9f9a-1b8e7379fd94",
   "metadata": {
    "id": "265b6340-cee4-4fdd-9f9a-1b8e7379fd94",
    "tags": []
   },
   "source": [
    "### Step 4.1: Data ingestion (0% - we do it for you!)\n",
    "Read the data and place them in an appropriate data structure such that LLD sequence coming from each file (=utterance) is contained separately.\n",
    "\n",
    "NOTES:\n",
    " 1. Even though you do not need to write code for this part, make sure you understand what is going on, otherwise you will not comprehend the next steps.\n",
    " 2. I would advise you to put the RAVDESS directory in the directory where this notebook is being run from - otherwise you will need to modify the variable `base_folder` below, as is written there."
   ]
  },
  {
   "cell_type": "code",
   "execution_count": null,
   "id": "eb8bbf65-3c7a-4e93-9ec4-d576db9bcde2",
   "metadata": {
    "id": "eb8bbf65-3c7a-4e93-9ec4-d576db9bcde2"
   },
   "outputs": [],
   "source": [
    "# DO NOT MODIFY\n",
    "\n",
    "import glob\n",
    "import os\n",
    "import pandas as pd\n",
    "\n",
    "\n",
    "# Each file will have some data and metadata we will want to record. We do so in using a class:\n",
    "class FileData():\n",
    "    def __init__(self, speakerid, emoid, LLDseq, LLDcount):\n",
    "        self.speakerid = speakerid\n",
    "        self.emoid = emoid\n",
    "        self.LLDseq = LLDseq\n",
    "        self.LLDcount = LLDcount\n",
    "\n",
    "\n",
    "def ingest_ravdess_data(base_folder):\n",
    "    \"\"\"Build list of FileData instances, one per file/utterance.\"\"\"\n",
    "    LLD_folder = 'LLD_CSV_IS13/'\n",
    "    list_actors_dirs = sorted(glob.glob(os.path.join(base_folder, LLD_folder, 'Actor*')))\n",
    "    #print(list_actors_dirs)\n",
    "\n",
    "    cnt = 0\n",
    "    LLD_data = [] # To be populated by instances of FileData\n",
    "\n",
    "    # The metadata can be obtained from the provided metadata.csv or from the\n",
    "    # filename directly. We'll do the latter.\n",
    "\n",
    "    for actor_folder in list_actors_dirs:\n",
    "        list_actorLLDfiles = sorted(glob.glob(os.path.join(actor_folder, '*.csv')))\n",
    "        #print(list_actorLLDfiles)\n",
    "        for actor_file in list_actorLLDfiles:\n",
    "            #print(f\"file: {actor_file}\")\n",
    "            cnt = cnt + 1\n",
    "            tmp_data_og = pd.read_csv(actor_file, sep=';')\n",
    "            tmp_data = tmp_data_og.iloc[:, 2:]\n",
    "            # if cnt == 1: # Visualise data on first iteration\n",
    "            #     print(tmp_data.shape)\n",
    "            #     print(tmp_data.iloc[:5, :4])\n",
    "            #     cols = tmp_data.columns\n",
    "            #     #print(f\"Column names: {[\"\\n\\t\" + f\"{col}\" for col in cols]}\")\n",
    "            #     print(\"\\nColumns:\")\n",
    "            #     for col in cols:\n",
    "            #         print(\"\\t\" + f\"{col}\")\n",
    "            actor_file_wo_ext = os.path.splitext(actor_file)[0] # Remove extension from file name\n",
    "            filecodes = str.split(actor_file_wo_ext,'-') # list with the filecodes, for example ['03', '02', ...]\n",
    "            emoid = int(filecodes[2]) # the third filecode corresponds to the emotion id\n",
    "            #print(f\"emoid: {emoid}\")\n",
    "            speakerid = int(filecodes[-1]) # the last filecode corresponds to the actor/speaker id\n",
    "            LLD_data.append(FileData(speakerid, emoid, tmp_data, tmp_data.shape[0]))\n",
    "    assert len(LLD_data) == 704, \"Something went wrong! There are 704 csv files in the RAVDESS dataset, but len(LLD_data) != 704.\"\n",
    "\n",
    "    return LLD_data"
   ]
  },
  {
   "cell_type": "code",
   "execution_count": null,
   "id": "7659890d-32a6-4986-8d97-4c18f6c29bd9",
   "metadata": {
    "id": "7659890d-32a6-4986-8d97-4c18f6c29bd9"
   },
   "outputs": [],
   "source": [
    "# ONLY MODIFY IF BASE-FOLDER IS DIFFERENT!\n",
    "base_folder = './RAVDESS/' # Assuming that the RAVDESS directory is in the directory where this notebook is being run from.\n",
    "LLD_data = ingest_ravdess_data(base_folder) # LLD_data is a data structure that keeps the acoustic LLD sequences for each audio file\n",
    "# The goal of this assignment is to convert the (arbitrary length) LLD sequences into a fixed length utterance representation using Bag-of-Audio-Words approach"
   ]
  },
  {
   "cell_type": "code",
   "execution_count": null,
   "id": "ccf54247-4a1f-454e-b13a-110499fc72ad",
   "metadata": {
    "id": "ccf54247-4a1f-454e-b13a-110499fc72ad"
   },
   "outputs": [],
   "source": [
    "# DO NOT MODIFY\n",
    "\n",
    "# In this part, each function does one of these things:\n",
    "#  1. Generate train data table with one LLDseq (corresponding to one audio frame) per row, using the first few speakers only.\n",
    "#  2. Generate the mask arrays (using the speakerids) that will be used in the rest of this notebook\n",
    "#        for splitting the datasets in train, val and test sets.\n",
    "#  3. Generate the response variable vectors for the train, val and test sets.\n",
    "\n",
    "def build_ravdess_train_dataset(LLD_data, n_speakers_train=8):\n",
    "    \"\"\"Builds RAVDESS dataset from list of FileData corresponding to the LLD of the utterances.\n",
    "\n",
    "    Input:\n",
    "        LLD_data -- list of FileData instances, one for each utterance file.\n",
    "\n",
    "    Output:\n",
    "        all_train_LLDsequences -- dataframe of shape (N_seqs=total number of LLD seqs, number of LLD features),\n",
    "                                    with one LLD sequence per row.\n",
    "\n",
    "    \"\"\"\n",
    "    all_train_LLDsequences = pd.concat([file_data.LLDseq for file_data in LLD_data if file_data.speakerid <= n_speakers_train]) # Each LLDseq is one feature vector\n",
    "\n",
    "    return all_train_LLDsequences\n",
    "\n",
    "\n",
    "def generate_splitting_masks(LLD_data, n_speakers_train=8, n_speakers_val=4):\n",
    "    all_speakerids = np.array([file_data.speakerid for file_data in LLD_data])\n",
    "\n",
    "    # Masks to build dataset using speaker ids:\n",
    "    mask_train = all_speakerids <= n_speakers_train\n",
    "    mask_val = np.logical_and(n_speakers_train < all_speakerids, all_speakerids <= n_speakers_train + n_speakers_val)\n",
    "    mask_test = n_speakers_train + n_speakers_val < all_speakerids\n",
    "\n",
    "    return mask_train, mask_val, mask_test, all_speakerids\n",
    "\n",
    "def prepare_ravdess_response_data(LLD_data, mask_train, mask_val, mask_test):\n",
    "    all_emoids = np.array([file_data.emoid for file_data in LLD_data])\n",
    "\n",
    "    # Response's part of the dataset\n",
    "    emoids_train = all_emoids[mask_train]\n",
    "    emoids_val = all_emoids[mask_val]\n",
    "    emoids_test = all_emoids[mask_test]\n",
    "\n",
    "    return emoids_train, emoids_val, emoids_test"
   ]
  },
  {
   "cell_type": "code",
   "execution_count": null,
   "id": "9a8456d0-2638-4beb-9ad5-c2b5e4190f7e",
   "metadata": {
    "id": "9a8456d0-2638-4beb-9ad5-c2b5e4190f7e"
   },
   "outputs": [],
   "source": [
    "# DO NOT MODIFY\n",
    "# Make 0.5-0.25-0.25 train-val-test split using speakerid\n",
    "# (i.e. 8 speakers for the train, 4 speakers for the val and 4 speakers for the test sets).\n",
    "mask_train, mask_val, mask_test, _ = generate_splitting_masks(LLD_data)\n",
    "emoids_train, emoids_val, emoids_test = prepare_ravdess_response_data(LLD_data, mask_train, mask_val, mask_test)\n",
    "LLDs_train = build_ravdess_train_dataset(LLD_data)"
   ]
  },
  {
   "cell_type": "code",
   "execution_count": null,
   "id": "9d139457-2616-4047-b226-c4c54af7aa5a",
   "metadata": {
    "id": "9d139457-2616-4047-b226-c4c54af7aa5a"
   },
   "outputs": [],
   "source": [
    "# TEST:\n",
    "print(LLDs_train.shape)\n",
    "print(emoids_train[:44]) # Look at some responses\n",
    "\n",
    "assert LLDs_train.shape[1] == 130, \"There should be 130 features.\""
   ]
  },
  {
   "cell_type": "markdown",
   "id": "c14a0d6f-dbd5-462f-b188-7f7e1ab048f8",
   "metadata": {
    "id": "c14a0d6f-dbd5-462f-b188-7f7e1ab048f8",
    "tags": []
   },
   "source": [
    "### Step 4.2: Learn PCA projection (5%)\n",
    "Learn a PCA projection (i.e. the eigenvectors and eigenvalues of the covariance matrix) using your own PCA implementation, namely `mypca`.\n",
    "\n",
    "NOTE:\n",
    "If there is a large variance across variances of the features then it is wise to z-normalize the data before applying PCA (using for example an instance of the `sklearn.preprocessing.StandardScaler` class).\n",
    "\n",
    "Running the code below shows that indeed there is a huge difference in variances"
   ]
  },
  {
   "cell_type": "code",
   "execution_count": null,
   "id": "ba492d46-00bd-41cc-8bd1-1373b16e373e",
   "metadata": {
    "id": "ba492d46-00bd-41cc-8bd1-1373b16e373e"
   },
   "outputs": [],
   "source": [
    "# DO NOT MODIFY\n",
    "data_var = LLDs_train.var()\n",
    "print(f\"Variances:\\n{'-'*5}\\n{data_var}\\n{'-'*5}\")\n",
    "#ratio_extremes = np.max(data_var)/np.min(data_var)\n",
    "var_of_variances = np.var(data_var)\n",
    "#print(ratio_extremes)\n",
    "print(f\"Variance of the variances: {var_of_variances}\")"
   ]
  },
  {
   "cell_type": "code",
   "execution_count": null,
   "id": "d2cfdf5f-01f8-4ee8-a9f4-af9bde4c1236",
   "metadata": {
    "id": "d2cfdf5f-01f8-4ee8-a9f4-af9bde4c1236"
   },
   "outputs": [],
   "source": [
    "# You now need to Z-normalize LLDs_train. Call the resulting variable X_zn.\n",
    "# You can use sklearn.preprocessing.StandardScaler.\n",
    "from sklearn.preprocessing import StandardScaler\n",
    "# Instantiate scaler\n",
    "\n",
    "scaler = StandardScaler()\n",
    "#--- YOUR CODE HERE ---#\n",
    "# Fit scaler\n",
    "\n",
    "# Finally, apply mypca to extract pca_W and pca_lambdas\n",
    "pca_W, pca_lambdas, _ = mypca(X_zn)"
   ]
  },
  {
   "cell_type": "code",
   "execution_count": null,
   "id": "772eaa8f-f79c-4eb9-8f06-b0d90b5693f3",
   "metadata": {
    "id": "772eaa8f-f79c-4eb9-8f06-b0d90b5693f3"
   },
   "outputs": [],
   "source": [
    "# TEST:\n",
    "print(X_zn.shape)\n",
    "print(pca_W.shape)\n",
    "print(pca_lambdas.shape)\n",
    "\n",
    "assert X_zn.shape == (162621, 130), \"Something went wrong!\"\n",
    "assert pca_W.shape == (130, 130), \"Something went wrong!\"\n",
    "assert pca_lambdas.shape == (130,), \"Something went wrong!\""
   ]
  },
  {
   "cell_type": "markdown",
   "id": "2ae2f981-715a-4e26-8711-c534106b7c0c",
   "metadata": {
    "id": "2ae2f981-715a-4e26-8711-c534106b7c0c",
    "tags": []
   },
   "source": [
    "### Step 4.3: Applying PCA and K-means (5%)\n",
    "\n",
    "Project the training set using the first `p_pca` PCA components and train a K-Means model with K components.\n",
    "Using a number `p_pca` of principal components equal to 120 and a number of clusters `K` of 256."
   ]
  },
  {
   "cell_type": "code",
   "execution_count": null,
   "id": "7388eb09-6feb-4e12-85a6-01934402e3e5",
   "metadata": {
    "id": "7388eb09-6feb-4e12-85a6-01934402e3e5"
   },
   "outputs": [],
   "source": [
    "# DO NOT MODIFY\n",
    "p_pca = 120\n",
    "K = 256"
   ]
  },
  {
   "cell_type": "markdown",
   "id": "96bdbb55-6b36-489e-ac12-3a9d45b09162",
   "metadata": {
    "id": "96bdbb55-6b36-489e-ac12-3a9d45b09162"
   },
   "source": [
    "We already have the pre-processed (z-normalized) training LLD data.\n",
    "\n",
    "First, get PCA projection onto the (basis spanned by) the first p_pca eigenvectors.\n",
    "Call the resulting matrix `Z_LLD_train`.\n",
    "\n",
    "Hint: This function should not have more than a couple lines."
   ]
  },
  {
   "cell_type": "code",
   "execution_count": null,
   "id": "8aba2f4a-7344-49de-93ac-62ac0f0921db",
   "metadata": {
    "id": "8aba2f4a-7344-49de-93ac-62ac0f0921db"
   },
   "outputs": [],
   "source": [
    "def project_onto_pcs(X, pca_W, p_pca):\n",
    "    # Projecting coincides with matrix multiplication (if pca_W column vectors are normalized, which they are):\n",
    "    #--- YOUR CODE HERE ---#\n",
    "    return X_projected"
   ]
  },
  {
   "cell_type": "code",
   "execution_count": null,
   "id": "9422f878-82f9-4015-a9d5-a3fcf403589c",
   "metadata": {
    "id": "9422f878-82f9-4015-a9d5-a3fcf403589c"
   },
   "outputs": [],
   "source": [
    "# DO NOT MODIFY\n",
    "Z_LLD_train = project_onto_pcs(X_zn, pca_W, p_pca)"
   ]
  },
  {
   "cell_type": "code",
   "execution_count": null,
   "id": "b8bb8861-4c72-4d3f-b1f1-01d9a22c35e1",
   "metadata": {
    "id": "b8bb8861-4c72-4d3f-b1f1-01d9a22c35e1"
   },
   "outputs": [],
   "source": [
    "# TEST\n",
    "print(Z_LLD_train.shape)\n",
    "assert Z_LLD_train.shape == (162621, 120), \"Something went wrong! Shape of Z_LLD_train is incorrect!\""
   ]
  },
  {
   "cell_type": "code",
   "execution_count": null,
   "id": "ce79973c-bd64-4f32-aac1-38b9660e28cf",
   "metadata": {
    "id": "ce79973c-bd64-4f32-aac1-38b9660e28cf"
   },
   "outputs": [],
   "source": [
    "# DO NOT MODIFY\n",
    "# We will use only every fourth frame/LLD sequence, to reduce the computation time.\n",
    "\n",
    "def subsample(X, n_subsample):\n",
    "    X_subsample = X[np.arange(X.shape[0], step=n_subsample), :] # Use every n_sample'th point\n",
    "    return X_subsample\n",
    "\n",
    "n_subsample = 4 # Use every fourth frame\n",
    "Z_LLD_train_subsample = subsample(Z_LLD_train, n_subsample)\n",
    "print(Z_LLD_train_subsample.shape)"
   ]
  },
  {
   "cell_type": "code",
   "execution_count": null,
   "id": "faee099e-c742-4f8e-99fb-2ee1bb8402ac",
   "metadata": {
    "id": "faee099e-c742-4f8e-99fb-2ee1bb8402ac"
   },
   "outputs": [],
   "source": [
    "# Apply your kmeans implementation to the projected, subsampled, train data:\n",
    "np.random.seed(0)\n",
    "M, _ = #--- YOUR CODE HERE ---#"
   ]
  },
  {
   "cell_type": "markdown",
   "id": "6bba6d6b-6cdf-431f-8b72-de46cd4d01d8",
   "metadata": {
    "id": "6bba6d6b-6cdf-431f-8b72-de46cd4d01d8",
    "tags": []
   },
   "source": [
    "### Step 4.4: BoAW encode each file using the loaded data (5%)\n",
    "Using the result of the K-means method and LLD_data, use your implementation of BoAW to build one histogram per utterance/file."
   ]
  },
  {
   "cell_type": "code",
   "execution_count": null,
   "id": "b3b1c8e5-95f1-4512-940c-e1619afc3f50",
   "metadata": {
    "id": "b3b1c8e5-95f1-4512-940c-e1619afc3f50"
   },
   "outputs": [],
   "source": [
    "# We can collect all boaw representations in one matrix. We will later split it!\n",
    "\n",
    "def boaw_representations(LLD_data, scaler, pca_W, p_pca, K, M):\n",
    "    \"Generate matrix with one boaw representation (for each utterance) per row.\"\n",
    "    N_files = len(LLD_data) # One sample per file/utterance, each sample being a histogram.\n",
    "    #print(f\"Number of utterances: {N_files}\")\n",
    "    X_boaw_all = np.zeros((N_files, K)) # Each row will have K entries, each with the frequency of one of the clusters in that utterance/audio file.\n",
    "\n",
    "    for i in range(N_files):\n",
    "        #--- YOUR CODE HERE ---#\n",
    "\n",
    "    return X_boaw_all"
   ]
  },
  {
   "cell_type": "code",
   "execution_count": null,
   "id": "3330a4fe-3df6-4a0d-8aad-31f7936bef65",
   "metadata": {
    "id": "3330a4fe-3df6-4a0d-8aad-31f7936bef65"
   },
   "outputs": [],
   "source": [
    "# DO NOT MODIFY\n",
    "X_boaw_all = boaw_representations(LLD_data, scaler, pca_W, p_pca, K, M)\n",
    "print(f\"X_boaw_all shape: {X_boaw_all.shape}\")\n",
    "assert X_boaw_all.shape == (704, 256), \"Something went wrong!\""
   ]
  },
  {
   "cell_type": "code",
   "execution_count": null,
   "id": "edd2fb50-3d21-48c2-a56a-ba04e6afe4a6",
   "metadata": {
    "id": "edd2fb50-3d21-48c2-a56a-ba04e6afe4a6"
   },
   "outputs": [],
   "source": [
    "# DO NOT MODIFY\n",
    "# And now we split the representations in train and val sets\n",
    "\n",
    "def split_ravdess_filewise_boaw(X_boaw_all, mask_train, mask_val, mask_test):\n",
    "    \"\"\"Use the masks computed before to split X_boaw_all in train, val and test parts.\"\"\"\n",
    "    X_boaw_train = X_boaw_all[mask_train]\n",
    "    X_boaw_val = X_boaw_all[mask_val]\n",
    "    X_boaw_test = X_boaw_all[mask_test]\n",
    "\n",
    "    return X_boaw_train, X_boaw_val, X_boaw_test"
   ]
  },
  {
   "cell_type": "code",
   "execution_count": null,
   "id": "283fa79e-3d90-4cb5-9a12-23374ed050dd",
   "metadata": {
    "id": "283fa79e-3d90-4cb5-9a12-23374ed050dd"
   },
   "outputs": [],
   "source": [
    "# DO NOT MODIFY\n",
    "X_boaw_train, X_boaw_val, X_boaw_test = split_ravdess_filewise_boaw(\n",
    "    X_boaw_all, mask_train, mask_val, mask_test\n",
    ")\n",
    "Y_train = emoids_train\n",
    "Y_val = emoids_val\n",
    "Y_test = emoids_test"
   ]
  },
  {
   "cell_type": "code",
   "execution_count": null,
   "id": "cd64698d-0a6a-4f06-a6d6-0e08b1e4147a",
   "metadata": {
    "id": "cd64698d-0a6a-4f06-a6d6-0e08b1e4147a"
   },
   "outputs": [],
   "source": [
    "# TEST\n",
    "print(X_boaw_train.shape)\n",
    "print(X_boaw_val.shape)\n",
    "print(X_boaw_test.shape)\n",
    "print(Y_train.shape)\n",
    "print(Y_val.shape)\n",
    "print(Y_test.shape)"
   ]
  },
  {
   "cell_type": "markdown",
   "id": "388a61f1-c4d1-4923-a417-473c03f3ea31",
   "metadata": {
    "id": "388a61f1-c4d1-4923-a417-473c03f3ea31",
    "tags": []
   },
   "source": [
    "### Step 4.5: (5%)\n",
    "Use the sklearn implementation of LinearSVC (linear support vector machine) to optimize C using the validation set.\n",
    "\n",
    "To optimize C, simply try C = 10^-6, 10^-5, 10^-4, 10^-3, 10^-2, 10^-1, 10^-0, and select the one giving the best accuracy.\n",
    "Make sure to output best performance (i.e. accuracy) and corresponding C per BoAW representation."
   ]
  },
  {
   "cell_type": "code",
   "execution_count": null,
   "id": "552bc7d8-1b69-4c33-9b75-0933a9bb340c",
   "metadata": {
    "id": "552bc7d8-1b69-4c33-9b75-0933a9bb340c"
   },
   "outputs": [],
   "source": [
    "from sklearn.svm import LinearSVC\n",
    "\n",
    "C_set = 10.**np.arange(-6, 1) # the experimental set of SVM complexity values\n",
    "\n",
    "def generate_performances(X_train, X_val, Y_train, Y_val, C_set):\n",
    "    \"\"\"Compute the performances of linear svc (with random state = 1) for each C in C_set.\n",
    "\n",
    "    Output:\n",
    "        performances -- (len(C_set), 1) array with accuracy corresponding to C_set[i] on entry i.\n",
    "\n",
    "    \"\"\"\n",
    "    performances = np.zeros((len(C_set), 1)) # Performace for a certain C will simply be average correct preds = accuracy\n",
    "    for i in range(len(C_set)):\n",
    "        #--- YOUR CODE HERE ---#\n",
    "\n",
    "    return performances\n",
    "\n",
    "def find_best_C(C_set, performances):\n",
    "    \"\"\"Determines the best C in C_set using the list performances of accuracies.\n",
    "\n",
    "    Output:\n",
    "        best_C_boaw -- float\n",
    "        best_accuracy_boaw -- float\n",
    "    \"\"\"\n",
    "    #--- YOUR CODE HERE ---#\n",
    "\n",
    "    return best_C_boaw, best_accuracy_boaw"
   ]
  },
  {
   "cell_type": "code",
   "execution_count": null,
   "id": "b4ef091c-7e22-4c92-b9d3-5c85b823472d",
   "metadata": {
    "id": "b4ef091c-7e22-4c92-b9d3-5c85b823472d"
   },
   "outputs": [],
   "source": [
    "# DO NOT MODIFY\n",
    "performances = generate_performances(X_boaw_train, X_boaw_val, Y_train, Y_val, C_set)\n",
    "best_C_boaw, best_accuracy_boaw = find_best_C(C_set, performances)\n",
    "\n",
    "print(f\"For K={K} and p_pca={p_pca}:\")\n",
    "print(f\"\\tBest accuracy: {best_accuracy_boaw}\")\n",
    "print(f\"\\tBest C: {best_C_boaw}\")"
   ]
  },
  {
   "cell_type": "markdown",
   "id": "99afe09a-4bf8-4349-ae0b-076f2888df68",
   "metadata": {
    "id": "99afe09a-4bf8-4349-ae0b-076f2888df68",
    "tags": []
   },
   "source": [
    "### Step 4.5: Repeat steps 4.3 and 4.4 with different values of `p_pca` and `K` (0% - we do it for you!)\n",
    "\n",
    "Use `p_pca` in {120, 130}.\n",
    "Use `K` in {256, 512}.\n",
    "(Therefore you'll have 4 BoAW representations in total).\n",
    "\n",
    "Important note: since there will be hundreds of thousands of LLD vectors\n",
    "it will be wise to subsample them before K-Means taking one every `n_subsample=4` frames."
   ]
  },
  {
   "cell_type": "code",
   "execution_count": null,
   "id": "7ccc5a31-7d4f-47d2-acc9-9684a23f5c84",
   "metadata": {
    "id": "7ccc5a31-7d4f-47d2-acc9-9684a23f5c84"
   },
   "outputs": [],
   "source": [
    "# DO NOT MODIFY\n",
    "def generate_boaw_representation(X_zn, p_pca, pca_W, K, n_subsample, scaler):\n",
    "    X_projected = project_onto_pcs(X_zn, pca_W, p_pca)\n",
    "    X_projected_subsample = subsample(X_projected, n_subsample)\n",
    "    M, _ = mykmeans(X_projected_subsample, K)\n",
    "    X_boaw_all = boaw_representations(LLD_data, scaler, pca_W, p_pca, K, M)\n",
    "    #print(X_boaw_all.shape)\n",
    "    return X_boaw_all\n",
    "\n",
    "def test_hyperparameters(\n",
    "    X_zn, Y_train, Y_val, p_pcas, pca_W, Ks, n_subsample, scaler, C_set\n",
    "):\n",
    "    X_boaw_all_dict = {}\n",
    "    for p_pca in p_pcas:\n",
    "        for K in Ks:\n",
    "            print(\"-\"*5 + f\"\\np_pca: {p_pca}, K: {K}\")\n",
    "\n",
    "            # Generate the representation\n",
    "            X_boaw_all = generate_boaw_representation(\n",
    "                X_zn, p_pca, pca_W, K, n_subsample, scaler\n",
    "            )\n",
    "\n",
    "            # Split boaw data\n",
    "            X_boaw_train, X_boaw_val, X_boaw_test = split_ravdess_filewise_boaw(\n",
    "                X_boaw_all, mask_train, mask_val, mask_test\n",
    "            )\n",
    "\n",
    "            # One list of performances per representation\n",
    "            performances = generate_performances(\n",
    "                X_boaw_train, X_boaw_val, Y_train, Y_val, C_set\n",
    "            )\n",
    "\n",
    "            # One best C and best accuracy per representation\n",
    "            best_C_boaw, best_accuracy_boaw = find_best_C(C_set, performances)\n",
    "\n",
    "            print(f\"\\nFor K={K} and p_pca={p_pca}:\")\n",
    "            print(f\"\\tBest accuracy: {float(best_accuracy_boaw)}\")\n",
    "            print(f\"\\tBest C: {best_C_boaw}\")\n",
    "\n",
    "            X_boaw_all_dict[(p_pca, K)] = X_boaw_all\n",
    "\n",
    "    return X_boaw_all_dict"
   ]
  },
  {
   "cell_type": "code",
   "execution_count": null,
   "id": "0ec34590-8a8e-4a11-a29f-52db6712010a",
   "metadata": {
    "id": "0ec34590-8a8e-4a11-a29f-52db6712010a",
    "tags": []
   },
   "outputs": [],
   "source": [
    "# DO NOT MODIFY\n",
    "n_subsample = 4\n",
    "p_pcas = [120, 130]\n",
    "Ks = [256, 512]\n",
    "X_boaw_all_dict = test_hyperparameters(\n",
    "    X_zn, Y_train, Y_val, p_pcas, pca_W, Ks, n_subsample, scaler, C_set\n",
    ")"
   ]
  },
  {
   "cell_type": "markdown",
   "id": "acef577a-45f3-43ec-b40b-904e2ee93ed8",
   "metadata": {
    "id": "acef577a-45f3-43ec-b40b-904e2ee93ed8",
    "tags": []
   },
   "source": [
    "### Step 4.6: (0% - we do it for you!)\n",
    " We did everything using the train and validation sets only until now. This enables us to choose the best hyperparameters `p_pca`, `K` and `C`.\n",
    "\n",
    " Looking at the performance/accuracy results you obtained in the previous step, answer the question: which `p_pca`, `K` and `C` combination gave the best validation set performance?\n",
    " AND: using the boaw encoding for that `p_pca, K` combination and the best C, finally apply the setting on the test set."
   ]
  },
  {
   "cell_type": "code",
   "execution_count": null,
   "id": "2cf3261a-02e2-4bf6-88ae-c1a35e39c4bc",
   "metadata": {
    "id": "2cf3261a-02e2-4bf6-88ae-c1a35e39c4bc"
   },
   "outputs": [],
   "source": [
    "# NOT GRADED, BUT YOU CAN PLAY WITH THE VALUES OF K, p_pca AND C\n",
    "# Best values:\n",
    "K = 512\n",
    "p_pca = 130\n",
    "C = 10.**-6\n",
    "\n",
    "# 1. Now we combine the training and validation, retrain a model with best C and\n",
    "# best boaw representation (i.e. best K, p_pca) then predict on the test set.\n",
    "\n",
    "# Generate boaw representation for this p_pca and K:\n",
    "X_boaw_all = X_boaw_all_dict[(p_pca, K)]\n",
    "\n",
    "# Split boaw data\n",
    "X_boaw_train, X_boaw_val, X_boaw_test = split_ravdess_filewise_boaw(\n",
    "    X_boaw_all, mask_train, mask_val, mask_test\n",
    ")\n",
    "\n",
    "\n",
    "# join train and val in one\n",
    "X_boaw_trainval = np.concatenate([X_boaw_train, X_boaw_val])\n",
    "Y_trainval = np.concatenate([Y_train, Y_val])\n",
    "\n",
    "# 2. Now we run the classification model\n",
    "clf = LinearSVC(C=C, random_state=1)\n",
    "clf.fit(X_boaw_trainval, Y_trainval)\n",
    "preds_test = clf.predict(X_boaw_test)\n",
    "performance = np.mean(Y_test == preds_test)\n",
    "\n",
    "print(f\"\\nFor K={K}, p_pca={p_pca} and C={C}:\")\n",
    "print(f\"\\tAccuracy: {performance}.\")"
   ]
  },
  {
   "cell_type": "markdown",
   "id": "86cc7e89-3233-443c-b08d-1bcf23946a79",
   "metadata": {
    "id": "86cc7e89-3233-443c-b08d-1bcf23946a79"
   },
   "source": [
    "Note: If everything went well, you should have an accuracy around 0.43 (on the test set) when using the best hyper-parameters `K`, `p_pca` and `C`."
   ]
  },
  {
   "cell_type": "markdown",
   "id": "474db641-f497-4736-8609-0e939f262de9",
   "metadata": {
    "id": "474db641-f497-4736-8609-0e939f262de9"
   },
   "source": [
    "**Before you submit, click Kernel > Restart & Run All to make sure you submit a working version of your code!**\n",
    "\n",
    "--- End of the assignment ---"
   ]
  }
 ],
 "metadata": {
  "colab": {
   "provenance": []
  },
  "kernelspec": {
   "display_name": "Python 3 (ipykernel)",
   "language": "python",
   "name": "python3"
  },
  "language_info": {
   "codemirror_mode": {
    "name": "ipython",
    "version": 3
   },
   "file_extension": ".py",
   "mimetype": "text/x-python",
   "name": "python",
   "nbconvert_exporter": "python",
   "pygments_lexer": "ipython3",
   "version": "3.11.7"
  }
 },
 "nbformat": 4,
 "nbformat_minor": 5
}
